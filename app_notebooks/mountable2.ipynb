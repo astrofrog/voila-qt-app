{
 "cells": [
  {
   "cell_type": "code",
   "execution_count": 4,
   "metadata": {},
   "outputs": [],
   "source": [
    "import ipyvuetify as v\n",
    "\n",
    "mount_btn = v.Btn(_metadata={'mount_id': 'vbtn1'}, color='primary', children=[\"vbtn\"])\n"
   ]
  },
  {
   "cell_type": "code",
   "execution_count": 5,
   "metadata": {},
   "outputs": [
    {
     "data": {
      "application/vnd.jupyter.widget-view+json": {
       "model_id": "c10e85354ea44f4984ceb2cfc684b4f2",
       "version_major": 2,
       "version_minor": 0
      },
      "text/plain": [
       "Layout(children=[Menu(children=[Btn(children=['menu', Icon(children=['arrow_drop_down'], right=True)], color='…"
      ]
     },
     "metadata": {},
     "output_type": "display_data"
    }
   ],
   "source": [
    "def on_menu_click(widget, event, data):\n",
    "    if len(layout.children) == 1:\n",
    "        layout.children = layout.children + [info]\n",
    "    info.children=[f'Item {items.index(widget)+1} clicked']\n",
    "    \n",
    "\n",
    "items = [v.ListTile(children=[\n",
    "    v.ListTileTitle(children=[\n",
    "        f'Click me {i}'])]) \n",
    "         for i in range(1, 5)]\n",
    "\n",
    "for item in items:\n",
    "    item.on_event('click', on_menu_click)\n",
    "\n",
    "menu = v.Menu(offset_y=True, children=[\n",
    "    v.Btn(slot='activator', color='primary', children=[\n",
    "        'menu', \n",
    "        v.Icon(right=True, children=[\n",
    "            'arrow_drop_down'\n",
    "        ])\n",
    "    ]),\n",
    "    v.List(children=items)\n",
    "])\n",
    "\n",
    "info = v.Chip()\n",
    "\n",
    "layout = v.Layout(_metadata={'mount_id': 'menu'}, children=[\n",
    "    menu\n",
    "])\n",
    "layout"
   ]
  },
  {
   "cell_type": "code",
   "execution_count": 6,
   "metadata": {},
   "outputs": [
    {
     "data": {
      "application/vnd.jupyter.widget-view+json": {
       "model_id": "9e3cc32a37024688b1709b23bc057a14",
       "version_major": 2,
       "version_minor": 0
      },
      "text/plain": [
       "Dialog(children=[Btn(children=['Open dialog'], color='success', dark=True, slot='activator'), Card(children=[C…"
      ]
     },
     "metadata": {},
     "output_type": "display_data"
    }
   ],
   "source": [
    "v.Dialog(_metadata={'mount_id': 'dialog'}, v_model=False, width='500', children=[\n",
    "        v.Btn(slot=\"activator\", color='success', dark=True, children=[\n",
    "            \"Open dialog\"\n",
    "        ]),\n",
    "        v.Card(children=[\n",
    "            v.CardTitle(class_='headline gray lighten-2', primary_title=True, children=[\n",
    "                \"Lorem ipsum\"]),\n",
    "            v.CardText(children=[\n",
    "                \"lorum_ipsum\"])\n",
    "        ])\n",
    "    ])"
   ]
  },
  {
   "cell_type": "code",
   "execution_count": 7,
   "metadata": {},
   "outputs": [],
   "source": [
    "import ipywidgets as widgets\n",
    "import numpy as np\n",
    "from bqplot import pyplot as plt\n",
    "import bqplot\n",
    "\n",
    "\n",
    "n = 200\n",
    "\n",
    "x = np.linspace(0.0, 10.0, n)\n",
    "y = np.cumsum(np.random.randn(n)*10).astype(int)\n",
    "\n",
    "fig = plt.figure( title='Histogram')\n",
    "np.random.seed(0)\n",
    "hist = plt.hist(y, bins=25)\n",
    "hist.scales['sample'].min = float(y.min())\n",
    "hist.scales['sample'].max = float(y.max())\n",
    "fig.layout.width = 'auto'\n",
    "fig.layout.height = 'auto'\n",
    "fig.layout.min_height = '300px' # so it shows nicely in the notebook\n"
   ]
  },
  {
   "cell_type": "code",
   "execution_count": 8,
   "metadata": {},
   "outputs": [
    {
     "data": {
      "application/vnd.jupyter.widget-view+json": {
       "model_id": "e2314dc9fb35407c867597d0b3625bc7",
       "version_major": 2,
       "version_minor": 0
      },
      "text/plain": [
       "Layout(children=[Flex(children=[Figure(axes=[Axis(orientation='vertical', scale=LinearScale(), side='left'), A…"
      ]
     },
     "metadata": {},
     "output_type": "display_data"
    }
   ],
   "source": [
    "v.Layout(_metadata={'mount_id': 'histogram1'}, children=[\n",
    "    v.Flex(xs12=True, children=[\n",
    "        fig\n",
    "    ])\n",
    "])\n"
   ]
  },
  {
   "cell_type": "code",
   "execution_count": 9,
   "metadata": {},
   "outputs": [],
   "source": [
    "fig2 = plt.figure( title='Line Chart')\n",
    "np.random.seed(0)\n",
    "p = plt.plot(x, y)\n",
    "\n",
    "fig2.layout.width = 'auto'\n",
    "fig2.layout.height = 'auto'\n",
    "fig2.layout.min_height = '300px' # so it shows nicely in the notebook"
   ]
  },
  {
   "cell_type": "code",
   "execution_count": 10,
   "metadata": {},
   "outputs": [
    {
     "data": {
      "application/vnd.jupyter.widget-view+json": {
       "model_id": "53cb0d4ee6d84ca99220422b806320dd",
       "version_major": 2,
       "version_minor": 0
      },
      "text/plain": [
       "Layout(children=[Flex(children=[Figure(axes=[Axis(scale=LinearScale(), side='bottom'), Axis(orientation='verti…"
      ]
     },
     "metadata": {},
     "output_type": "display_data"
    }
   ],
   "source": [
    "v.Layout(_metadata={'mount_id': 'line1'}, children=[\n",
    "    v.Flex(xs12=True, children=[\n",
    "        fig2\n",
    "    ])\n",
    "])"
   ]
  }
 ],
 "metadata": {
  "kernelspec": {
   "display_name": "Python 3",
   "language": "python",
   "name": "python3"
  },
  "language_info": {
   "codemirror_mode": {
    "name": "ipython",
    "version": 3
   },
   "file_extension": ".py",
   "mimetype": "text/x-python",
   "name": "python",
   "nbconvert_exporter": "python",
   "pygments_lexer": "ipython3",
   "version": "3.7.2"
  }
 },
 "nbformat": 4,
 "nbformat_minor": 2
}
