{
 "cells": [
  {
   "cell_type": "code",
   "execution_count": null,
   "metadata": {},
   "outputs": [],
   "source": [
    "import ipyvuetify as v\n",
    "\n",
    "mount_btn = v.Btn(_metadata={'mount_id': 'vbtn1'}, color='primary', children=[\"vbtn\"])\n"
   ]
  },
  {
   "cell_type": "code",
   "execution_count": null,
   "metadata": {},
   "outputs": [],
   "source": [
    "def on_menu_click(widget, event, data):\n",
    "    if len(layout.children) == 1:\n",
    "        layout.children = layout.children + [info]\n",
    "    info.children=[f'Item {items.index(widget)+1} clicked']\n",
    "    \n",
    "\n",
    "items = [v.ListTile(children=[\n",
    "    v.ListTileTitle(children=[\n",
    "        f'Click me {i}'])]) \n",
    "         for i in range(1, 5)]\n",
    "\n",
    "for item in items:\n",
    "    item.on_event('click', on_menu_click)\n",
    "\n",
    "menu = v.Menu(offset_y=True, children=[\n",
    "    v.Btn(slot='activator', color='primary', children=[\n",
    "        'menu', \n",
    "        v.Icon(right=True, children=[\n",
    "            'arrow_drop_down'\n",
    "        ])\n",
    "    ]),\n",
    "    v.List(children=items)\n",
    "])\n",
    "\n",
    "info = v.Chip()\n",
    "\n",
    "layout = v.Layout(_metadata={'mount_id': 'menu'}, children=[\n",
    "    menu\n",
    "])\n",
    "layout"
   ]
  },
  {
   "cell_type": "code",
   "execution_count": null,
   "metadata": {},
   "outputs": [],
   "source": [
    "v.Dialog(_metadata={'mount_id': 'dialog'}, v_model=False, width='500', children=[\n",
    "        v.Btn(slot=\"activator\", color='success', dark=True, children=[\n",
    "            \"Open dialog\"\n",
    "        ]),\n",
    "        v.Card(children=[\n",
    "            v.CardTitle(class_='headline gray lighten-2', primary_title=True, children=[\n",
    "                \"Lorem ipsum\"]),\n",
    "            v.CardText(children=[\n",
    "                \"lorum_ipsum\"])\n",
    "        ])\n",
    "    ])"
   ]
  },
  {
   "cell_type": "code",
   "execution_count": null,
   "metadata": {},
   "outputs": [],
   "source": [
    "import ipywidgets as widgets\n",
    "import numpy as np\n",
    "from bqplot import pyplot as plt\n",
    "import bqplot\n",
    "\n",
    "\n",
    "n = 200\n",
    "\n",
    "x = np.linspace(0.0, 10.0, n)\n",
    "y = np.cumsum(np.random.randn(n)*10).astype(int)\n",
    "\n",
    "fig = plt.figure( title='Histogram')\n",
    "np.random.seed(0)\n",
    "hist = plt.hist(y, bins=25)\n",
    "hist.scales['sample'].min = float(y.min())\n",
    "hist.scales['sample'].max = float(y.max())\n",
    "fig.layout.width = 'auto'\n",
    "fig.layout.height = 'auto'\n",
    "fig.layout.min_height = '300px' # so it shows nicely in the notebook\n"
   ]
  },
  {
   "cell_type": "code",
   "execution_count": null,
   "metadata": {},
   "outputs": [],
   "source": [
    "v.Layout(_metadata={'mount_id': 'histogram1'}, children=[\n",
    "    v.Flex(xs12=True, children=[\n",
    "        fig\n",
    "    ])\n",
    "])\n"
   ]
  },
  {
   "cell_type": "code",
   "execution_count": null,
   "metadata": {},
   "outputs": [],
   "source": [
    "slider = v.Slider(_metadata={'mount_id': 'histogram_bins'}, thumb_label='always', class_=\"px-4\", v_model=30)\n",
    "slider"
   ]
  },
  {
   "cell_type": "code",
   "execution_count": null,
   "metadata": {},
   "outputs": [],
   "source": [
    "slider.v_model = 40"
   ]
  },
  {
   "cell_type": "code",
   "execution_count": null,
   "metadata": {},
   "outputs": [],
   "source": [
    "from traitlets import link\n",
    "link((slider, 'v_model'), (hist, 'bins'))"
   ]
  },
  {
   "cell_type": "code",
   "execution_count": null,
   "metadata": {},
   "outputs": [],
   "source": [
    "hist.bins = 10"
   ]
  },
  {
   "cell_type": "code",
   "execution_count": null,
   "metadata": {},
   "outputs": [],
   "source": [
    "fig2 = plt.figure( title='Line Chart')\n",
    "np.random.seed(0)\n",
    "p = plt.plot(x, y)\n",
    "\n",
    "fig2.layout.width = 'auto'\n",
    "fig2.layout.height = 'auto'\n",
    "fig2.layout.min_height = '300px' # so it shows nicely in the notebook"
   ]
  },
  {
   "cell_type": "code",
   "execution_count": null,
   "metadata": {},
   "outputs": [],
   "source": [
    "v.Layout(_metadata={'mount_id': 'line1'}, children=[\n",
    "    v.Flex(xs12=True, children=[\n",
    "        fig2\n",
    "    ])\n",
    "])"
   ]
  },
  {
   "cell_type": "code",
   "execution_count": null,
   "metadata": {},
   "outputs": [],
   "source": [
    "n2 = 200\n",
    "\n",
    "x2 = np.linspace(0.0, 10.0, n)\n",
    "y2 = np.cumsum(np.random.randn(n)*10).astype(int)\n",
    "\n",
    "figHist2 = plt.figure( title='Histogram 2')\n",
    "np.random.seed(0)\n",
    "hist2 = plt.hist(y2, bins=25)\n",
    "hist2.scales['sample'].min = float(y2.min())\n",
    "hist2.scales['sample'].max = float(y2.max())\n",
    "figHist2.layout.width = 'auto'\n",
    "figHist2.layout.height = 'auto'\n",
    "figHist2.layout.min_height = '300px' # so it shows nicely in the notebook\n",
    "\n",
    "sliderHist2 = v.Slider(_metadata={'mount_id': 'histogram_bins2'}, thumb_label='always', class_='px-4', v_model=5)\n",
    "from traitlets import link\n",
    "link((sliderHist2, 'v_model'), (hist2, 'bins'))\n",
    "\n",
    "v.Layout(_metadata={'mount_id': 'histogram2'}, children=[\n",
    "    v.Flex(xs12=True, children=[\n",
    "        figHist2\n",
    "    ])\n",
    "])\n",
    "\n",
    "\n",
    "figHist2"
   ]
  },
  {
   "cell_type": "code",
   "execution_count": null,
   "metadata": {},
   "outputs": [],
   "source": [
    "sliderHist2"
   ]
  },
  {
   "cell_type": "code",
   "execution_count": null,
   "metadata": {},
   "outputs": [],
   "source": []
  },
  {
   "cell_type": "code",
   "execution_count": null,
   "metadata": {},
   "outputs": [],
   "source": [
    "brushintsel = bqplot.interacts.BrushIntervalSelector(scale=p.scales['x'])\n",
    "\n",
    "def update_range(*args):\n",
    "    if brushintsel.selected is not None and brushintsel.selected.shape == (2,):\n",
    "        mask = (x > brushintsel.selected[0]) & (x < brushintsel.selected[1])\n",
    "        hist.sample = y[mask]\n",
    "    \n",
    "brushintsel.observe(update_range, 'selected')\n",
    "fig2.interaction = brushintsel"
   ]
  },
  {
   "cell_type": "code",
   "execution_count": null,
   "metadata": {},
   "outputs": [],
   "source": []
  }
 ],
 "metadata": {
  "kernelspec": {
   "display_name": "Python 3",
   "language": "python",
   "name": "python3"
  },
  "language_info": {
   "codemirror_mode": {
    "name": "ipython",
    "version": 3
   },
   "file_extension": ".py",
   "mimetype": "text/x-python",
   "name": "python",
   "nbconvert_exporter": "python",
   "pygments_lexer": "ipython3",
   "version": "3.7.1"
  }
 },
 "nbformat": 4,
 "nbformat_minor": 2
}
